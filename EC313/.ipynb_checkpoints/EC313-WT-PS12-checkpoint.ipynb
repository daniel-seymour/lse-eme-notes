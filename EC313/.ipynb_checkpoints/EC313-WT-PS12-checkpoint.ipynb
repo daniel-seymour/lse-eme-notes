{
 "cells": [
  {
   "cell_type": "markdown",
   "id": "05fd91d2",
   "metadata": {},
   "source": [
    "The maximum likelihood estimator is the value that maximises the likelihood function, that is:\n",
    "\n",
    "$$\n",
    "\\hat{\\theta} = \\arg\\max_{\\theta} L(\\theta; Y_1, \\dots, Y_n) \n",
    "\\\\= \\arg\\max_{\\theta} \\left\\{ \\prod_{i=1}^{n} f(Y_i; \\theta) \\right\\} \\text{ given random sampling}\n",
    "$$\n",
    "\n",
    "The likelihood function reflects the information in the data {Y1, …, Yn} about the unknown parameter θ.\n",
    "\n",
    "In our specific case, instead of theta we will maximise the likelihood of alpha and beta simultaneously given the observed data. \n",
    "\n",
    "McFadden showed that the probability of choice k by consumer i equals\n",
    "\n",
    "$$\n",
    "P_{ik} = \\frac{\\exp(\\delta_{t}^{k})}{\\sum_{l=0}^{m_i} \\exp(\\delta_{t}^{k})}.\n",
    "$$\n",
    "\n",
    "where we rewrite the utility of product k from \n",
    "\n",
    "$$\n",
    "U_{t}^{k} = \\beta x_{t}^{k} - \\alpha p_{t}^{k} + \\epsilon_{t}^{k} \\quad \\text{for } k = 1,2;\n",
    "$$\n",
    "\n",
    "given $$ U_{t}^{k} = 0 \\quad \\text{for } k = 0.$$\n",
    "\n",
    "to \n",
    "\n",
    "$$\n",
    "U_{t}^{k} = \\delta_{t}^{k} + \\epsilon_{t}^{k} \\quad \\text{where } \\delta_{t}^{k} = \\beta x_{t}^{k} - \\alpha p_{t}^{k}.\n",
    "$$\n",
    "\n",
    "\n",
    "Therefore, \n",
    "\n"
   ]
  }
 ],
 "metadata": {
  "kernelspec": {
   "display_name": "Python 3 (ipykernel)",
   "language": "python",
   "name": "python3"
  },
  "language_info": {
   "codemirror_mode": {
    "name": "ipython",
    "version": 3
   },
   "file_extension": ".py",
   "mimetype": "text/x-python",
   "name": "python",
   "nbconvert_exporter": "python",
   "pygments_lexer": "ipython3",
   "version": "3.11.3"
  }
 },
 "nbformat": 4,
 "nbformat_minor": 5
}
