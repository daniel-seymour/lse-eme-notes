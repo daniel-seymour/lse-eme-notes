{
 "cells": [
  {
   "cell_type": "code",
   "execution_count": 14,
   "id": "3b2a54c2",
   "metadata": {},
   "outputs": [],
   "source": [
    "import statsmodels.formula.api as smf\n",
    "import pandas as pd"
   ]
  },
  {
   "cell_type": "code",
   "execution_count": 4,
   "id": "43da413a",
   "metadata": {},
   "outputs": [
    {
     "data": {
      "text/html": [
       "<div>\n",
       "<style scoped>\n",
       "    .dataframe tbody tr th:only-of-type {\n",
       "        vertical-align: middle;\n",
       "    }\n",
       "\n",
       "    .dataframe tbody tr th {\n",
       "        vertical-align: top;\n",
       "    }\n",
       "\n",
       "    .dataframe thead th {\n",
       "        text-align: right;\n",
       "    }\n",
       "</style>\n",
       "<table border=\"1\" class=\"dataframe\">\n",
       "  <thead>\n",
       "    <tr style=\"text-align: right;\">\n",
       "      <th></th>\n",
       "      <th>sales_u</th>\n",
       "      <th>pctacv</th>\n",
       "      <th>data</th>\n",
       "      <th>price</th>\n",
       "      <th>date</th>\n",
       "      <th>region</th>\n",
       "      <th>AVC_dist</th>\n",
       "      <th>AVC_adver</th>\n",
       "    </tr>\n",
       "  </thead>\n",
       "  <tbody>\n",
       "    <tr>\n",
       "      <th>0</th>\n",
       "      <td>302306</td>\n",
       "      <td>98</td>\n",
       "      <td>ch</td>\n",
       "      <td>1.047743</td>\n",
       "      <td>1991-01-05</td>\n",
       "      <td>ch</td>\n",
       "      <td>966.872375</td>\n",
       "      <td>9742.702148</td>\n",
       "    </tr>\n",
       "    <tr>\n",
       "      <th>1</th>\n",
       "      <td>287260</td>\n",
       "      <td>98</td>\n",
       "      <td>ch</td>\n",
       "      <td>1.030878</td>\n",
       "      <td>1991-01-12</td>\n",
       "      <td>ch</td>\n",
       "      <td>958.782227</td>\n",
       "      <td>9595.088867</td>\n",
       "    </tr>\n",
       "    <tr>\n",
       "      <th>2</th>\n",
       "      <td>307435</td>\n",
       "      <td>98</td>\n",
       "      <td>ch</td>\n",
       "      <td>1.029291</td>\n",
       "      <td>1991-01-19</td>\n",
       "      <td>ch</td>\n",
       "      <td>952.054138</td>\n",
       "      <td>9640.892578</td>\n",
       "    </tr>\n",
       "    <tr>\n",
       "      <th>3</th>\n",
       "      <td>294160</td>\n",
       "      <td>98</td>\n",
       "      <td>ch</td>\n",
       "      <td>1.053824</td>\n",
       "      <td>1991-01-26</td>\n",
       "      <td>ch</td>\n",
       "      <td>953.193054</td>\n",
       "      <td>9598.753906</td>\n",
       "    </tr>\n",
       "    <tr>\n",
       "      <th>4</th>\n",
       "      <td>300197</td>\n",
       "      <td>98</td>\n",
       "      <td>ch</td>\n",
       "      <td>1.038931</td>\n",
       "      <td>1991-02-02</td>\n",
       "      <td>ch</td>\n",
       "      <td>928.393372</td>\n",
       "      <td>9599.876953</td>\n",
       "    </tr>\n",
       "  </tbody>\n",
       "</table>\n",
       "</div>"
      ],
      "text/plain": [
       "   sales_u  pctacv data     price       date region    AVC_dist    AVC_adver\n",
       "0   302306      98   ch  1.047743 1991-01-05     ch  966.872375  9742.702148\n",
       "1   287260      98   ch  1.030878 1991-01-12     ch  958.782227  9595.088867\n",
       "2   307435      98   ch  1.029291 1991-01-19     ch  952.054138  9640.892578\n",
       "3   294160      98   ch  1.053824 1991-01-26     ch  953.193054  9598.753906\n",
       "4   300197      98   ch  1.038931 1991-02-02     ch  928.393372  9599.876953"
      ]
     },
     "execution_count": 4,
     "metadata": {},
     "output_type": "execute_result"
    }
   ],
   "source": [
    "# Path to your .dta file\n",
    "file_path = \"/Users/danielseymour/Downloads/all3.dta\"\n",
    "\n",
    "# Load the .dta file into a DataFrame\n",
    "df = pd.read_stata(file_path)\n",
    "\n",
    "# Display the first few rows\n",
    "df.head()"
   ]
  },
  {
   "cell_type": "code",
   "execution_count": 3,
   "id": "6e74bc0b",
   "metadata": {},
   "outputs": [
    {
     "data": {
      "text/html": [
       "<div>\n",
       "<style scoped>\n",
       "    .dataframe tbody tr th:only-of-type {\n",
       "        vertical-align: middle;\n",
       "    }\n",
       "\n",
       "    .dataframe tbody tr th {\n",
       "        vertical-align: top;\n",
       "    }\n",
       "\n",
       "    .dataframe thead th {\n",
       "        text-align: right;\n",
       "    }\n",
       "</style>\n",
       "<table border=\"1\" class=\"dataframe\">\n",
       "  <thead>\n",
       "    <tr style=\"text-align: right;\">\n",
       "      <th></th>\n",
       "      <th>sales_u</th>\n",
       "      <th>pctacv</th>\n",
       "      <th>price</th>\n",
       "      <th>date</th>\n",
       "      <th>AVC_dist</th>\n",
       "      <th>AVC_adver</th>\n",
       "    </tr>\n",
       "  </thead>\n",
       "  <tbody>\n",
       "    <tr>\n",
       "      <th>count</th>\n",
       "      <td>416.000000</td>\n",
       "      <td>416.000000</td>\n",
       "      <td>384.000000</td>\n",
       "      <td>416</td>\n",
       "      <td>416.000000</td>\n",
       "      <td>416.000000</td>\n",
       "    </tr>\n",
       "    <tr>\n",
       "      <th>mean</th>\n",
       "      <td>134445.644231</td>\n",
       "      <td>97.596154</td>\n",
       "      <td>1.095531</td>\n",
       "      <td>1991-12-31 12:00:00</td>\n",
       "      <td>932.106812</td>\n",
       "      <td>9389.291016</td>\n",
       "    </tr>\n",
       "    <tr>\n",
       "      <th>min</th>\n",
       "      <td>0.000000</td>\n",
       "      <td>77.000000</td>\n",
       "      <td>0.494999</td>\n",
       "      <td>1991-01-05 00:00:00</td>\n",
       "      <td>495.146240</td>\n",
       "      <td>5299.777832</td>\n",
       "    </tr>\n",
       "    <tr>\n",
       "      <th>25%</th>\n",
       "      <td>13750.750000</td>\n",
       "      <td>98.000000</td>\n",
       "      <td>1.065834</td>\n",
       "      <td>1991-07-04 06:00:00</td>\n",
       "      <td>955.757187</td>\n",
       "      <td>9441.390137</td>\n",
       "    </tr>\n",
       "    <tr>\n",
       "      <th>50%</th>\n",
       "      <td>104740.000000</td>\n",
       "      <td>99.000000</td>\n",
       "      <td>1.112700</td>\n",
       "      <td>1991-12-31 12:00:00</td>\n",
       "      <td>986.576508</td>\n",
       "      <td>9697.805664</td>\n",
       "    </tr>\n",
       "    <tr>\n",
       "      <th>75%</th>\n",
       "      <td>252974.250000</td>\n",
       "      <td>100.000000</td>\n",
       "      <td>1.138038</td>\n",
       "      <td>1992-06-28 18:00:00</td>\n",
       "      <td>997.274445</td>\n",
       "      <td>9844.130615</td>\n",
       "    </tr>\n",
       "    <tr>\n",
       "      <th>max</th>\n",
       "      <td>643756.000000</td>\n",
       "      <td>100.000000</td>\n",
       "      <td>1.216236</td>\n",
       "      <td>1992-12-26 00:00:00</td>\n",
       "      <td>999.985718</td>\n",
       "      <td>9999.769531</td>\n",
       "    </tr>\n",
       "    <tr>\n",
       "      <th>std</th>\n",
       "      <td>145279.183583</td>\n",
       "      <td>4.764364</td>\n",
       "      <td>0.071565</td>\n",
       "      <td>NaN</td>\n",
       "      <td>143.639221</td>\n",
       "      <td>887.489075</td>\n",
       "    </tr>\n",
       "  </tbody>\n",
       "</table>\n",
       "</div>"
      ],
      "text/plain": [
       "             sales_u      pctacv       price                 date    AVC_dist  \\\n",
       "count     416.000000  416.000000  384.000000                  416  416.000000   \n",
       "mean   134445.644231   97.596154    1.095531  1991-12-31 12:00:00  932.106812   \n",
       "min         0.000000   77.000000    0.494999  1991-01-05 00:00:00  495.146240   \n",
       "25%     13750.750000   98.000000    1.065834  1991-07-04 06:00:00  955.757187   \n",
       "50%    104740.000000   99.000000    1.112700  1991-12-31 12:00:00  986.576508   \n",
       "75%    252974.250000  100.000000    1.138038  1992-06-28 18:00:00  997.274445   \n",
       "max    643756.000000  100.000000    1.216236  1992-12-26 00:00:00  999.985718   \n",
       "std    145279.183583    4.764364    0.071565                  NaN  143.639221   \n",
       "\n",
       "         AVC_adver  \n",
       "count   416.000000  \n",
       "mean   9389.291016  \n",
       "min    5299.777832  \n",
       "25%    9441.390137  \n",
       "50%    9697.805664  \n",
       "75%    9844.130615  \n",
       "max    9999.769531  \n",
       "std     887.489075  "
      ]
     },
     "execution_count": 3,
     "metadata": {},
     "output_type": "execute_result"
    }
   ],
   "source": [
    "df.describe()"
   ]
  },
  {
   "cell_type": "code",
   "execution_count": 5,
   "id": "6eeea083",
   "metadata": {},
   "outputs": [
    {
     "name": "stdout",
     "output_type": "stream",
     "text": [
      "<class 'pandas.core.frame.DataFrame'>\n",
      "RangeIndex: 416 entries, 0 to 415\n",
      "Data columns (total 8 columns):\n",
      " #   Column     Non-Null Count  Dtype         \n",
      "---  ------     --------------  -----         \n",
      " 0   sales_u    416 non-null    int32         \n",
      " 1   pctacv     416 non-null    int8          \n",
      " 2   data       416 non-null    object        \n",
      " 3   price      384 non-null    float32       \n",
      " 4   date       416 non-null    datetime64[ns]\n",
      " 5   region     416 non-null    category      \n",
      " 6   AVC_dist   416 non-null    float32       \n",
      " 7   AVC_adver  416 non-null    float32       \n",
      "dtypes: category(1), datetime64[ns](1), float32(3), int32(1), int8(1), object(1)\n",
      "memory usage: 14.1+ KB\n"
     ]
    }
   ],
   "source": [
    "df.info()"
   ]
  },
  {
   "cell_type": "markdown",
   "id": "c785176b",
   "metadata": {},
   "source": [
    "Columns explained:  \n",
    "- Sales in equivalent units (lbs) - quantity. \n",
    "- pctacv probably means Percentage of All Commodity Volume (ACV) (chatgpt). In consumer packaged goods (CPG) or scanner panel data, “ACV” (All Commodity Volume) refers to total retail sales volume for all products sold in the relevant retail universe, and “percentage ACV” (or “%ACV”) measures the fraction of that total volume in which a given product is carried. Values close to 100 usually mean the product is distributed in close to 100% of the store base (weighted by ACV), while lower values mean less coverage. So it is common to use pctacv as one of the demand shifters: broader distribution coverage tends to increase sales by making the product available in more places.  \n",
    "- AVC_dist: Average Variable Cost of Distribution\n",
    "- AVC_adver: Average Variable Cost of Advertising\n",
    "\n",
    "\n",
    "Notes:  \n",
    "- Data and region seem the same\n",
    "- This is weekly data. "
   ]
  },
  {
   "cell_type": "code",
   "execution_count": 7,
   "id": "10b7b6f8",
   "metadata": {},
   "outputs": [
    {
     "name": "stdout",
     "output_type": "stream",
     "text": [
      "Are the columns exactly the same? True\n"
     ]
    }
   ],
   "source": [
    "# Convert both columns to strings before comparison\n",
    "identical = df['data'].astype(str).equals(df['region'].astype(str))\n",
    "\n",
    "print(\"Are the columns exactly the same?\", identical)"
   ]
  },
  {
   "cell_type": "markdown",
   "id": "6e1c473b",
   "metadata": {},
   "source": [
    "Question 1:  \n",
    "\n",
    "Construct scatter-plots of  sales versus prices for Kraft in both regions (i.e. prices on the Y-axis, unit-sales on the X-axis). Repeat the exercise for Kraft. Is there evidence for a negatively sloped demand-curve in the data? In which of  the two region the OLS will give a more “correct” answer? "
   ]
  },
  {
   "cell_type": "code",
   "execution_count": 10,
   "id": "d0048cce",
   "metadata": {},
   "outputs": [
    {
     "data": {
      "text/plain": [
       "['ch', 'ck', 'jh', 'jk']\n",
       "Categories (4, object): ['ch' < 'ck' < 'jh' < 'jk']"
      ]
     },
     "execution_count": 10,
     "metadata": {},
     "output_type": "execute_result"
    }
   ],
   "source": [
    "df['region'].unique()"
   ]
  },
  {
   "cell_type": "markdown",
   "id": "33836541",
   "metadata": {},
   "source": [
    "City or State Abbreviations:  \n",
    "\t•\tch → Chicago\n",
    "\t•\tck → Possibly Cincinnati or Kansas City\n",
    "\t•\tjh → Jacksonville or Johnstown\n",
    "\t•\tjk → Jersey City or Jackson"
   ]
  },
  {
   "cell_type": "code",
   "execution_count": 12,
   "id": "1a5032e9",
   "metadata": {},
   "outputs": [
    {
     "data": {
      "image/png": "[encoded data removed]",
      "text/plain": [
       "<Figure size 800x600 with 1 Axes>"
      ]
     },
     "metadata": {},
     "output_type": "display_data"
    }
   ],
   "source": [
    "import matplotlib.pyplot as plt\n",
    "import numpy as np\n",
    "\n",
    "# Define unique regions\n",
    "regions = df[\"region\"].unique()\n",
    "\n",
    "# Generate distinct colors for each region\n",
    "colors = plt.cm.viridis(np.linspace(0, 1, len(regions)))  \n",
    "\n",
    "# Create scatter plot for each region\n",
    "plt.figure(figsize=(8, 6))\n",
    "for i, region in enumerate(regions):\n",
    "    subset = df[df[\"region\"] == region]\n",
    "    plt.scatter(subset[\"sales_u\"], subset[\"price\"], alpha=0.5, label=region, color=colors[i])\n",
    "\n",
    "# Labels, legend, and title\n",
    "plt.xlabel(\"Unit Sales (sales_u)\")\n",
    "plt.ylabel(\"Price\")\n",
    "plt.title(\"Scatter Plot of Price vs. Unit Sales by Region\")\n",
    "plt.legend(title=\"Region\")\n",
    "plt.grid(True)\n",
    "\n",
    "# Show the plot\n",
    "plt.show()"
   ]
  },
  {
   "cell_type": "markdown",
   "id": "2679b25e",
   "metadata": {},
   "source": [
    "There is evidence of a negatively sloped demand-curve in the data for regions ch, jh. ck is ambigious. And for ch definitely not as the relationship is much more flat, there is no negative relationship betweenn price and sales."
   ]
  },
  {
   "cell_type": "markdown",
   "id": "c1821408",
   "metadata": {},
   "source": [
    "Question 2:  \n",
    "Fit the \"multiplicative\" demand model discussed in class one for each region. Estimate the model with OLS and then use an IV. "
   ]
  },
  {
   "cell_type": "markdown",
   "id": "d67d42bf",
   "metadata": {},
   "source": [
    "What is the typical “multiplicative” demand model? \n",
    "It's when you assume constant elasticity of demand in market m (i.e. the region) in week t: \n",
    "$$\n",
    "\\ln(Q_{mt}) = x_{mt}\\beta - \\alpha \\ln(p_{mt}) + \\varepsilon_{mt}\n",
    "$$\n",
    "\n",
    "where Q_m and p_m are respectively total quantity and price, x_m are demand shifters, and ε_m is the unobservable component.\n",
    "\n",
    "It's multiplicative because:\n",
    "\n",
    "$$\n",
    "Q_{mt} = \\exp\\bigl(x_{mt}\\beta - \\alpha\\ln(p_{mt}) + \\varepsilon_{mt}\\bigr)\n",
    "= \\exp(x_{mt}\\beta)\\,[p_{mt}]^{-\\alpha}\\,\\exp(\\varepsilon_{mt}).\n",
    "$$\n",
    "\n",
    "We will first estimate by OLS and then by IV in Python. We will assume a stylized demand model of the form\n",
    "\n",
    "Questions:\n",
    "- Should I include a time subscript too here? Yes, as there could be variations in demand based on time\n",
    "- What should the instrument be? As we are estimating demand, we want to use as an instrument a cost shifter. \n",
    "- Therefore, we can use the distribution costs, AVC_dis, to produce variation in price (relevance) while it is exogeneous to demand shocks. For estimating supply curves, advertising would be a good demand shifter."
   ]
  },
  {
   "cell_type": "code",
   "execution_count": 15,
   "id": "cc4f1e2d",
   "metadata": {},
   "outputs": [
    {
     "data": {
      "text/plain": [
       "Index(['sales_u', 'pctacv', 'data', 'price', 'date', 'region', 'AVC_dist',\n",
       "       'AVC_adver'],\n",
       "      dtype='object')"
      ]
     },
     "execution_count": 15,
     "metadata": {},
     "output_type": "execute_result"
    }
   ],
   "source": [
    "df.columns"
   ]
  },
  {
   "cell_type": "code",
   "execution_count": 13,
   "id": "dbb3a4bc",
   "metadata": {},
   "outputs": [],
   "source": [
    "# OLS\n",
    "\n",
    "# Create new log columns\n",
    "df['lnQ'] = np.log(df['sales_u'])\n",
    "df['lnP'] = np.log(df['price'])\n",
    "df['lnpctacv'] = np.log(df['pctacv'])\n",
    "df['lnadver'] = np.log(df['AVC_adver'])\n",
    "\n",
    "model_ols = smf.ols('lnQ ~ lnP + lnpctacv + lnadver', data=df).fit()\n",
    "print(model_ols.summary())\n",
    "\n",
    "# Unique list of regions\n",
    "regions = df['region'].unique()\n",
    "\n",
    "ols_results = {}\n",
    "\n",
    "for reg in regions:\n",
    "    # Subset data for this region\n",
    "    df_region = df[df['region'] == reg]\n",
    "\n",
    "    # Fit OLS: lnQ ~ lnP + lnX\n",
    "    model_ols = smf.ols('lnQ ~ lnP + lnX', data=df_region).fit()\n",
    "\n",
    "    # Store the result\n",
    "    ols_results[reg] = model_ols\n",
    "\n",
    "    print(f\"\\n=== OLS results for region: {reg} ===\")\n",
    "    print(model_ols.summary())"
   ]
  },
  {
   "cell_type": "code",
   "execution_count": null,
   "id": "993cbd56",
   "metadata": {},
   "outputs": [],
   "source": [
    "# Using distribution costs as an IV"
   ]
  },
  {
   "cell_type": "markdown",
   "id": "913179f7",
   "metadata": {},
   "source": [
    "Question 3:  \n",
    "Forecasting demand under a price change: Using your regression results from the multiplicative demand model, compute the % change in unit sales for a 10% increase in the price of  Kraft.\n",
    "\n",
    "We can interpret\n"
   ]
  },
  {
   "cell_type": "code",
   "execution_count": null,
   "id": "b8ef6ae6",
   "metadata": {},
   "outputs": [],
   "source": []
  }
 ],
 "metadata": {
  "kernelspec": {
   "display_name": "Python 3 (ipykernel)",
   "language": "python",
   "name": "python3"
  },
  "language_info": {
   "codemirror_mode": {
    "name": "ipython",
    "version": 3
   },
   "file_extension": ".py",
   "mimetype": "text/x-python",
   "name": "python",
   "nbconvert_exporter": "python",
   "pygments_lexer": "ipython3",
   "version": "3.11.3"
  }
 },
 "nbformat": 4,
 "nbformat_minor": 5
}
